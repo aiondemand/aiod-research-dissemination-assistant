{
 "cells": [
  {
   "cell_type": "code",
   "execution_count": 1,
   "id": "4eab3dda-81b2-478d-98c4-277a1df7d406",
   "metadata": {},
   "outputs": [
    {
     "name": "stdout",
     "output_type": "stream",
     "text": [
      "                                                Text\n",
      "0  \u0001\u0002\u0003\u0001\u0004\u0005\u0006\u0001\\n\u0001\u0002\u0003\u0004\u0005\u0006\u0007\\nCitation: Brecko, A.; Kaj...\n",
      "1  Acta Electrotechnica et Informatica, Vol. 14, ...\n"
     ]
    }
   ],
   "source": [
    "import pandas as pd\n",
    "\n",
    "df = pd.read_csv('csv/output.csv')\n",
    "\n",
    "print(df.head())"
   ]
  },
  {
   "cell_type": "code",
   "execution_count": 7,
   "id": "90b5e25e-f078-4a03-9d78-5085628e4a9e",
   "metadata": {},
   "outputs": [
    {
     "data": {
      "text/markdown": [
       "Here's a LinkedIn post summarizing the research articles:\n",
       "\n",
       "**Machine Learning for Intelligent-Reflecting-Surface-Based Wireless Communication: A Review**\n",
       "\n",
       "As we move towards the next generation of wireless communication (6G), researchers are exploring innovative solutions to enhance network performance, security, and efficiency. One such area is intelligent reflecting surfaces (IRS) which can manipulate radio signals in real-time.\n",
       "\n",
       "In a recent study published in Sensors, authors J.H., You, Y.H., and Song, H.K. reviewed the application of machine learning for IRS-based wireless communication. They found that by integrating machine learning with IRS, networks can achieve improved signal processing, beamforming, and interference mitigation.\n",
       "\n",
       "But that's not all! Another study published in IEEE Transactions on Wireless Communications explored a joint learning and communications framework for federated learning over wireless networks. The authors demonstrated that this approach can improve model accuracy while reducing communication costs.\n",
       "\n",
       "In addition to these studies, researchers have also been exploring the intersection of artificial intelligence (AI), blockchain, and wireless communication. For instance, a study published in IEEE Internet Things Journal proposed a communication-efficient on-device federated learning approach for industrial IoT applications.\n",
       "\n",
       "As we continue to push the boundaries of what's possible with machine learning and wireless communication, it's exciting to see the potential applications in areas like edge intelligence, digital twin networks, and green transportation.\n",
       "\n",
       "What are your thoughts on the role of machine learning in shaping the future of wireless communication? Share your insights in the comments!\n",
       "\n",
       "**References:**\n",
       "\n",
       "1. J.H., You, Y.H., & Song, H.K. (2022). Machine Learning for Intelligent-Reﬂecting-Surface-Based Wireless Communication towards 6G: A Review. Sensors, 22(12), 5405.\n",
       "2. Chen, M., Yang, Z., Saad, W., Yin, C., Poor, H.V., & Cui, S. (2020). A joint learning and communications framework for federated learning over wireless networks. IEEE Transactions on Wireless Communications, 20(3), 269-283.\n",
       "\n",
       "Feel free to like, comment, or share if you find this summary interesting!"
      ],
      "text/plain": [
       "<IPython.core.display.Markdown object>"
      ]
     },
     "metadata": {},
     "output_type": "display_data"
    }
   ],
   "source": [
    "from langchain_community.llms import Ollama\n",
    "\n",
    "llm = Ollama(\n",
    "    model=\"llama3\"\n",
    ")\n",
    "\n",
    "post = llm.invoke(\"Can you create me a LinkedIn post blog from summarization of this research article: \" +  df.loc[0, 'Text'])\n",
    "\n",
    "from IPython.display import display, Markdown\n",
    "\n",
    "display(Markdown(f\"{post}\"))"
   ]
  },
  {
   "cell_type": "code",
   "execution_count": 10,
   "id": "dd4ba205-4fde-436e-a5e9-b0cfe95e6c9b",
   "metadata": {},
   "outputs": [],
   "source": [
    "# language\n",
    "# tone\n",
    "# audience\n",
    "# ... \n",
    "# ladenie promptu\n",
    "# vyhodnocavanie postov"
   ]
  },
  {
   "cell_type": "code",
   "execution_count": null,
   "id": "e89122f8-211f-4d89-b849-b0614c812716",
   "metadata": {},
   "outputs": [],
   "source": []
  }
 ],
 "metadata": {
  "kernelspec": {
   "display_name": "Python 3 (ipykernel)",
   "language": "python",
   "name": "python3"
  },
  "language_info": {
   "codemirror_mode": {
    "name": "ipython",
    "version": 3
   },
   "file_extension": ".py",
   "mimetype": "text/x-python",
   "name": "python",
   "nbconvert_exporter": "python",
   "pygments_lexer": "ipython3",
   "version": "3.8.16"
  }
 },
 "nbformat": 4,
 "nbformat_minor": 5
}
