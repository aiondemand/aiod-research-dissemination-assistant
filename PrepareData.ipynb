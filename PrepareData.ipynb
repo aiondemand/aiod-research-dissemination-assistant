{
 "cells": [
  {
   "cell_type": "code",
   "execution_count": 11,
   "id": "7b801696-07a0-4a16-aa68-c1ab6343bc42",
   "metadata": {},
   "outputs": [],
   "source": [
    "import pymupdf\n",
    "import pandas as pd\n",
    "import os\n",
    "\n",
    "\n",
    "def extract_text_from_pdf(pdf_path):\n",
    "    # Open the provided PDF file\n",
    "    doc = pymupdf.open(pdf_path)\n",
    "    text = \"\"\n",
    "\n",
    "    # Extract text from each page\n",
    "    for page in doc:\n",
    "        text += page.get_text()\n",
    "\n",
    "    doc.close()\n",
    "    return text\n"
   ]
  },
  {
   "cell_type": "code",
   "execution_count": 2,
   "id": "eaa446a5-3f81-4db6-aec0-3cfbec028095",
   "metadata": {},
   "outputs": [],
   "source": [
    "def save_text_to_file(text, file_path):\n",
    "    with open(file_path, 'w') as file:\n",
    "        file.write(text)"
   ]
  },
  {
   "cell_type": "code",
   "execution_count": 9,
   "id": "9b487517-3cb1-47af-b78f-020a982061fb",
   "metadata": {},
   "outputs": [],
   "source": [
    "def save_text_to_csv(paragraphs, csv_file_path):\n",
    "    df = pd.DataFrame(paragraphs, columns=['Text'])\n",
    "    \n",
    "    if os.path.exists(csv_file_path):\n",
    "        df.to_csv(csv_file_path, mode='a', header=False, index=False)\n",
    "    else:\n",
    "        df.to_csv(csv_file_path, mode='w', header=True, index=False)"
   ]
  },
  {
   "cell_type": "code",
   "execution_count": 4,
   "id": "fc78b629-b5c9-4bc7-b230-6dad3548d1fa",
   "metadata": {},
   "outputs": [],
   "source": [
    "def load_csv_to_dataframe(csv_file_path):\n",
    "    df = pd.read_csv(csv_file_path)\n",
    "    return df"
   ]
  },
  {
   "cell_type": "code",
   "execution_count": 12,
   "id": "08c6708c-f957-40fc-8732-dac74c6b184b",
   "metadata": {},
   "outputs": [
    {
     "name": "stdout",
     "output_type": "stream",
     "text": [
      "                                                Text\n",
      "0  \u0001\u0002\u0003\u0001\u0004\u0005\u0006\u0001\\n\u0001\u0002\u0003\u0004\u0005\u0006\u0007\\nCitation: Brecko, A.; Kaj...\n",
      "1  Acta Electrotechnica et Informatica, Vol. 14, ...\n"
     ]
    }
   ],
   "source": [
    "# PATHs\n",
    "pdf_path = 'papers/AEI_Brecko.pdf'\n",
    "text_file_path = 'texts/AIE_Brecko.txt'\n",
    "csv_file_path = 'csv/output.csv'\n",
    "\n",
    "extracted_text = extract_text_from_pdf(pdf_path)\n",
    "paragraphs = extracted_text.split('\\n\\n')\n",
    "\n",
    "save_text_to_file(extracted_text, text_file_path)\n",
    "save_text_to_csv(paragraphs, csv_file_path)\n",
    "text_df = load_csv_to_dataframe(csv_file_path)\n",
    "\n",
    "print(text_df.head())\n"
   ]
  },
  {
   "cell_type": "code",
   "execution_count": null,
   "id": "94c1a3d8-244d-4e79-805a-eb01134f70b3",
   "metadata": {},
   "outputs": [],
   "source": []
  }
 ],
 "metadata": {
  "kernelspec": {
   "display_name": "Python 3 (ipykernel)",
   "language": "python",
   "name": "python3"
  },
  "language_info": {
   "codemirror_mode": {
    "name": "ipython",
    "version": 3
   },
   "file_extension": ".py",
   "mimetype": "text/x-python",
   "name": "python",
   "nbconvert_exporter": "python",
   "pygments_lexer": "ipython3",
   "version": "3.8.16"
  }
 },
 "nbformat": 4,
 "nbformat_minor": 5
}
